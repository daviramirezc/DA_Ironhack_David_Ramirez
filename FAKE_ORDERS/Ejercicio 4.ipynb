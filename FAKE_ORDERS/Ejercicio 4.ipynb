{
 "cells": [
  {
   "cell_type": "code",
   "execution_count": 4,
   "id": "6e2da568-1850-4333-9c80-541cc1dafc3a",
   "metadata": {},
   "outputs": [],
   "source": [
    "import pandas as pd\n",
    "import numpy as np\n",
    "import matplotlib.pyplot as plt\n",
    "import seaborn as sns"
   ]
  },
  {
   "cell_type": "code",
   "execution_count": 19,
   "id": "9e4b61a2-adae-4808-ba39-19758691d37c",
   "metadata": {},
   "outputs": [],
   "source": [
    "# Data set\n",
    "fake_orders = pd.read_csv(r'C:\\Users\\Davi\\Downloads\\FAKE_ORDERS\\fake_orders_test.csv')"
   ]
  },
  {
   "cell_type": "code",
   "execution_count": 21,
   "id": "afdf0de3-80ba-4c18-abf9-9b823c9c01e5",
   "metadata": {},
   "outputs": [
    {
     "name": "stdout",
     "output_type": "stream",
     "text": [
      "<class 'pandas.core.frame.DataFrame'>\n",
      "RangeIndex: 60400 entries, 0 to 60399\n",
      "Data columns (total 9 columns):\n",
      " #   Column                 Non-Null Count  Dtype  \n",
      "---  ------                 --------------  -----  \n",
      " 0   order_id               60400 non-null  int64  \n",
      " 1   activation_time_local  60400 non-null  object \n",
      " 2   country_code           60400 non-null  object \n",
      " 3   store_address          60400 non-null  int64  \n",
      " 4   final_status           60400 non-null  object \n",
      " 5   payment_status         60400 non-null  object \n",
      " 6   products               60400 non-null  int64  \n",
      " 7   products_total         60400 non-null  float64\n",
      " 8   purchase_total_price   60400 non-null  float64\n",
      "dtypes: float64(2), int64(3), object(4)\n",
      "memory usage: 4.1+ MB\n"
     ]
    }
   ],
   "source": [
    "# Exploracion de datos\n",
    "\n",
    "fake_orders.info()"
   ]
  },
  {
   "cell_type": "code",
   "execution_count": 23,
   "id": "e7c26247-281b-4901-a9d5-9dd01ecdaf1a",
   "metadata": {},
   "outputs": [
    {
     "data": {
      "text/html": [
       "<div>\n",
       "<style scoped>\n",
       "    .dataframe tbody tr th:only-of-type {\n",
       "        vertical-align: middle;\n",
       "    }\n",
       "\n",
       "    .dataframe tbody tr th {\n",
       "        vertical-align: top;\n",
       "    }\n",
       "\n",
       "    .dataframe thead th {\n",
       "        text-align: right;\n",
       "    }\n",
       "</style>\n",
       "<table border=\"1\" class=\"dataframe\">\n",
       "  <thead>\n",
       "    <tr style=\"text-align: right;\">\n",
       "      <th></th>\n",
       "      <th>order_id</th>\n",
       "      <th>activation_time_local</th>\n",
       "      <th>country_code</th>\n",
       "      <th>store_address</th>\n",
       "      <th>final_status</th>\n",
       "      <th>payment_status</th>\n",
       "      <th>products</th>\n",
       "      <th>products_total</th>\n",
       "      <th>purchase_total_price</th>\n",
       "    </tr>\n",
       "  </thead>\n",
       "  <tbody>\n",
       "    <tr>\n",
       "      <th>0</th>\n",
       "      <td>33557880</td>\n",
       "      <td>59:59.0</td>\n",
       "      <td>AR</td>\n",
       "      <td>14200</td>\n",
       "      <td>DeliveredStatus</td>\n",
       "      <td>PAID</td>\n",
       "      <td>1</td>\n",
       "      <td>4.54</td>\n",
       "      <td>8.64</td>\n",
       "    </tr>\n",
       "    <tr>\n",
       "      <th>1</th>\n",
       "      <td>33512615</td>\n",
       "      <td>58:32.0</td>\n",
       "      <td>TR</td>\n",
       "      <td>28725</td>\n",
       "      <td>DeliveredStatus</td>\n",
       "      <td>PAID</td>\n",
       "      <td>1</td>\n",
       "      <td>3.76</td>\n",
       "      <td>3.76</td>\n",
       "    </tr>\n",
       "    <tr>\n",
       "      <th>2</th>\n",
       "      <td>33512451</td>\n",
       "      <td>57:56.0</td>\n",
       "      <td>TR</td>\n",
       "      <td>28725</td>\n",
       "      <td>DeliveredStatus</td>\n",
       "      <td>PAID</td>\n",
       "      <td>1</td>\n",
       "      <td>2.86</td>\n",
       "      <td>2.86</td>\n",
       "    </tr>\n",
       "    <tr>\n",
       "      <th>3</th>\n",
       "      <td>33530892</td>\n",
       "      <td>57:33.0</td>\n",
       "      <td>ES</td>\n",
       "      <td>19777</td>\n",
       "      <td>CanceledStatus</td>\n",
       "      <td>PAID</td>\n",
       "      <td>1</td>\n",
       "      <td>12.95</td>\n",
       "      <td>0.00</td>\n",
       "    </tr>\n",
       "    <tr>\n",
       "      <th>4</th>\n",
       "      <td>33557765</td>\n",
       "      <td>57:21.0</td>\n",
       "      <td>AR</td>\n",
       "      <td>34565</td>\n",
       "      <td>DeliveredStatus</td>\n",
       "      <td>PAID</td>\n",
       "      <td>2</td>\n",
       "      <td>2.86</td>\n",
       "      <td>6.48</td>\n",
       "    </tr>\n",
       "  </tbody>\n",
       "</table>\n",
       "</div>"
      ],
      "text/plain": [
       "   order_id activation_time_local country_code  store_address  \\\n",
       "0  33557880               59:59.0           AR          14200   \n",
       "1  33512615               58:32.0           TR          28725   \n",
       "2  33512451               57:56.0           TR          28725   \n",
       "3  33530892               57:33.0           ES          19777   \n",
       "4  33557765               57:21.0           AR          34565   \n",
       "\n",
       "      final_status payment_status  products  products_total  \\\n",
       "0  DeliveredStatus           PAID         1            4.54   \n",
       "1  DeliveredStatus           PAID         1            3.76   \n",
       "2  DeliveredStatus           PAID         1            2.86   \n",
       "3   CanceledStatus           PAID         1           12.95   \n",
       "4  DeliveredStatus           PAID         2            2.86   \n",
       "\n",
       "   purchase_total_price  \n",
       "0                  8.64  \n",
       "1                  3.76  \n",
       "2                  2.86  \n",
       "3                  0.00  \n",
       "4                  6.48  "
      ]
     },
     "execution_count": 23,
     "metadata": {},
     "output_type": "execute_result"
    }
   ],
   "source": [
    "fake_orders.head()"
   ]
  },
  {
   "cell_type": "code",
   "execution_count": 25,
   "id": "f678a921-3ba6-459f-8e5e-6622e118a116",
   "metadata": {},
   "outputs": [
    {
     "data": {
      "text/html": [
       "<div>\n",
       "<style scoped>\n",
       "    .dataframe tbody tr th:only-of-type {\n",
       "        vertical-align: middle;\n",
       "    }\n",
       "\n",
       "    .dataframe tbody tr th {\n",
       "        vertical-align: top;\n",
       "    }\n",
       "\n",
       "    .dataframe thead th {\n",
       "        text-align: right;\n",
       "    }\n",
       "</style>\n",
       "<table border=\"1\" class=\"dataframe\">\n",
       "  <thead>\n",
       "    <tr style=\"text-align: right;\">\n",
       "      <th></th>\n",
       "      <th>order_id</th>\n",
       "      <th>store_address</th>\n",
       "      <th>products</th>\n",
       "      <th>products_total</th>\n",
       "      <th>purchase_total_price</th>\n",
       "    </tr>\n",
       "  </thead>\n",
       "  <tbody>\n",
       "    <tr>\n",
       "      <th>count</th>\n",
       "      <td>6.040000e+04</td>\n",
       "      <td>60400.000000</td>\n",
       "      <td>60400.000000</td>\n",
       "      <td>60400.000000</td>\n",
       "      <td>60400.000000</td>\n",
       "    </tr>\n",
       "    <tr>\n",
       "      <th>mean</th>\n",
       "      <td>3.278265e+07</td>\n",
       "      <td>41580.723692</td>\n",
       "      <td>2.811358</td>\n",
       "      <td>9.832693</td>\n",
       "      <td>10.703447</td>\n",
       "    </tr>\n",
       "    <tr>\n",
       "      <th>std</th>\n",
       "      <td>4.453627e+05</td>\n",
       "      <td>21905.784563</td>\n",
       "      <td>2.431214</td>\n",
       "      <td>9.276841</td>\n",
       "      <td>10.781632</td>\n",
       "    </tr>\n",
       "    <tr>\n",
       "      <th>min</th>\n",
       "      <td>3.150378e+07</td>\n",
       "      <td>190.000000</td>\n",
       "      <td>1.000000</td>\n",
       "      <td>0.000000</td>\n",
       "      <td>0.000000</td>\n",
       "    </tr>\n",
       "    <tr>\n",
       "      <th>25%</th>\n",
       "      <td>3.240091e+07</td>\n",
       "      <td>21110.000000</td>\n",
       "      <td>1.000000</td>\n",
       "      <td>4.110000</td>\n",
       "      <td>4.330000</td>\n",
       "    </tr>\n",
       "    <tr>\n",
       "      <th>50%</th>\n",
       "      <td>3.278110e+07</td>\n",
       "      <td>45849.000000</td>\n",
       "      <td>2.000000</td>\n",
       "      <td>7.120000</td>\n",
       "      <td>7.980000</td>\n",
       "    </tr>\n",
       "    <tr>\n",
       "      <th>75%</th>\n",
       "      <td>3.318279e+07</td>\n",
       "      <td>61992.250000</td>\n",
       "      <td>3.000000</td>\n",
       "      <td>12.750000</td>\n",
       "      <td>14.160000</td>\n",
       "    </tr>\n",
       "    <tr>\n",
       "      <th>max</th>\n",
       "      <td>3.356085e+07</td>\n",
       "      <td>75236.000000</td>\n",
       "      <td>39.000000</td>\n",
       "      <td>221.480000</td>\n",
       "      <td>265.760000</td>\n",
       "    </tr>\n",
       "  </tbody>\n",
       "</table>\n",
       "</div>"
      ],
      "text/plain": [
       "           order_id  store_address      products  products_total  \\\n",
       "count  6.040000e+04   60400.000000  60400.000000    60400.000000   \n",
       "mean   3.278265e+07   41580.723692      2.811358        9.832693   \n",
       "std    4.453627e+05   21905.784563      2.431214        9.276841   \n",
       "min    3.150378e+07     190.000000      1.000000        0.000000   \n",
       "25%    3.240091e+07   21110.000000      1.000000        4.110000   \n",
       "50%    3.278110e+07   45849.000000      2.000000        7.120000   \n",
       "75%    3.318279e+07   61992.250000      3.000000       12.750000   \n",
       "max    3.356085e+07   75236.000000     39.000000      221.480000   \n",
       "\n",
       "       purchase_total_price  \n",
       "count          60400.000000  \n",
       "mean              10.703447  \n",
       "std               10.781632  \n",
       "min                0.000000  \n",
       "25%                4.330000  \n",
       "50%                7.980000  \n",
       "75%               14.160000  \n",
       "max              265.760000  "
      ]
     },
     "execution_count": 25,
     "metadata": {},
     "output_type": "execute_result"
    }
   ],
   "source": [
    "fake_orders.describe()"
   ]
  },
  {
   "cell_type": "code",
   "execution_count": 27,
   "id": "023c1ebe-4347-4049-9482-01260311f471",
   "metadata": {},
   "outputs": [
    {
     "name": "stdout",
     "output_type": "stream",
     "text": [
      "Porcentaje de pedidos subautorizados: 57.58%\n"
     ]
    }
   ],
   "source": [
    "# Cálculo de pedidos subautorizados\n",
    "fake_orders['subautorizado'] = fake_orders['products_total'] < fake_orders['purchase_total_price']\n",
    "\n",
    "# Porcentaje de pedidos subautorizados\n",
    "porcentaje_subautorizados = (fake_orders['subautorizado'].mean()) * 100\n",
    "print(f\"Porcentaje de pedidos subautorizados: {porcentaje_subautorizados:.2f}%\")\n"
   ]
  },
  {
   "cell_type": "code",
   "execution_count": 31,
   "id": "7edde91f-7a40-4557-802a-a47b9d795a56",
   "metadata": {},
   "outputs": [
    {
     "name": "stdout",
     "output_type": "stream",
     "text": [
      "Porcentaje de pedidos autorizados con incremento: 69.04%\n"
     ]
    }
   ],
   "source": [
    "# Autorización incremental (+20%)\n",
    "fake_orders['autorizacion_incremental'] = fake_orders['products_total'] * 1.20\n",
    "\n",
    "# Verificación de autorización correcta con incremento\n",
    "fake_orders['autorizado_incremental'] = fake_orders['autorizacion_incremental'] >= fake_orders['purchase_total_price']\n",
    "\n",
    "# Porcentaje de pedidos autorizados con incremento\n",
    "porcentaje_autorizados_incremental = (fake_orders['autorizado_incremental'].mean()) * 100\n",
    "print(f\"Porcentaje de pedidos autorizados con incremento: {porcentaje_autorizados_incremental:.2f}%\")\n"
   ]
  },
  {
   "cell_type": "code",
   "execution_count": 33,
   "id": "c1fcec37-4a8f-4d9b-a467-0438c0bbf65c",
   "metadata": {},
   "outputs": [
    {
     "name": "stdout",
     "output_type": "stream",
     "text": [
      "country_code\n",
      "AR    60.597332\n",
      "BR    50.000000\n",
      "CI    33.333333\n",
      "CL    87.047101\n",
      "CR    44.896116\n",
      "DO    63.600000\n",
      "EC    64.234450\n",
      "EG    62.910284\n",
      "ES    62.197407\n",
      "FR    65.636704\n",
      "GE    51.831502\n",
      "GT    33.156966\n",
      "IT    55.306268\n",
      "KE    56.382979\n",
      "MA    40.686275\n",
      "PA    60.809477\n",
      "PE    55.903866\n",
      "PR    42.424242\n",
      "PT    58.085809\n",
      "RO    46.423627\n",
      "TR    50.661626\n",
      "UA    48.628308\n",
      "UY    42.631579\n",
      "Name: subautorizado, dtype: float64\n"
     ]
    },
    {
     "data": {
      "image/png": "[encoded data removed]",
      "text/plain": [
       "<Figure size 640x480 with 1 Axes>"
      ]
     },
     "metadata": {},
     "output_type": "display_data"
    }
   ],
   "source": [
    "# Porcentaje de pedidos subautorizados por país\n",
    "subautorizados_pais = fake_orders.groupby('country_code')['subautorizado'].mean() * 100\n",
    "print(subautorizados_pais)\n",
    "\n",
    "# Visualización de las diferencias por país\n",
    "sns.barplot(x=subautorizados_pais.index, y=subautorizados_pais.values)\n",
    "plt.title('Porcentaje de Pedidos Subautorizados por País')\n",
    "plt.ylabel('Porcentaje (%)')\n",
    "plt.xlabel('País')\n",
    "plt.show()\n"
   ]
  },
  {
   "cell_type": "code",
   "execution_count": 35,
   "id": "db678dd6-5b7f-47fa-8c25-cc64ede6c410",
   "metadata": {},
   "outputs": [
    {
     "name": "stdout",
     "output_type": "stream",
     "text": [
      "count    1.870100e+04\n",
      "mean     4.740313e+00\n",
      "std      8.537180e+00\n",
      "min      4.440892e-16\n",
      "25%      9.740000e-01\n",
      "50%      2.512000e+00\n",
      "75%      5.380000e+00\n",
      "max      2.641820e+02\n",
      "dtype: float64\n"
     ]
    }
   ],
   "source": [
    "# Pedidos fuera de la autorización incremental\n",
    "pedidos_fuera_incremental = fake_orders[fake_orders['autorizado_incremental'] == False]\n",
    "\n",
    "# Valores necesarios para capturar el monto restante\n",
    "monto_restante = pedidos_fuera_incremental['purchase_total_price'] - pedidos_fuera_incremental['autorizacion_incremental']\n",
    "print(monto_restante.describe())\n"
   ]
  },
  {
   "cell_type": "code",
   "execution_count": null,
   "id": "f763e2d3-5e14-4eff-8e3c-dcdb0c97e199",
   "metadata": {},
   "outputs": [],
   "source": []
  },
  {
   "cell_type": "code",
   "execution_count": 29,
   "id": "04478d1f-aec6-4d6e-bf8c-f192b7ef02ca",
   "metadata": {},
   "outputs": [
    {
     "name": "stdout",
     "output_type": "stream",
     "text": [
      "               order_id  purchase_total_price\n",
      "store_address                                \n",
      "28669               158               5832.25\n",
      "28671               448               4536.10\n",
      "28712               217               3575.47\n",
      "12513               126               2933.10\n",
      "14455               179               2924.07\n",
      "27635               116               2169.30\n",
      "4137                 82               2008.90\n",
      "10264                59               1797.76\n",
      "29451               101               1666.81\n",
      "65898                66               1647.66\n"
     ]
    }
   ],
   "source": [
    "# Análisis de tiendas por número de pedidos subautorizados y valor monetario\n",
    "tiendas_problemas = fake_orders[fake_orders['subautorizado']].groupby('store_address').agg({\n",
    "    'order_id': 'count',\n",
    "    'purchase_total_price': 'sum'\n",
    "}).sort_values(by='purchase_total_price', ascending=False)\n",
    "\n",
    "print(tiendas_problemas.head(10))\n"
   ]
  },
  {
   "cell_type": "code",
   "execution_count": 49,
   "id": "db7fb44b-c738-4473-a86f-9dc15adb222f",
   "metadata": {},
   "outputs": [
    {
     "data": {
      "image/png": "[encoded data removed]",
      "text/plain": [
       "<Figure size 640x480 with 1 Axes>"
      ]
     },
     "metadata": {},
     "output_type": "display_data"
    }
   ],
   "source": [
    "# Evaluar si hay más cancelaciones con mayor diferencia de precio\n",
    "sns.scatterplot(x='diferencia_precio', y='final_status', data=fake_orders)\n",
    "plt.title('Relación entre la Diferencia de Precio y la Cancelación del Pedido')\n",
    "plt.xlabel('Diferencia de Precio (€)')\n",
    "plt.ylabel('Estado Final')\n",
    "plt.show()\n"
   ]
  }
 ],
 "metadata": {
  "kernelspec": {
   "display_name": "Python 3 (ipykernel)",
   "language": "python",
   "name": "python3"
  },
  "language_info": {
   "codemirror_mode": {
    "name": "ipython",
    "version": 3
   },
   "file_extension": ".py",
   "mimetype": "text/x-python",
   "name": "python",
   "nbconvert_exporter": "python",
   "pygments_lexer": "ipython3",
   "version": "3.12.4"
  }
 },
 "nbformat": 4,
 "nbformat_minor": 5
}
